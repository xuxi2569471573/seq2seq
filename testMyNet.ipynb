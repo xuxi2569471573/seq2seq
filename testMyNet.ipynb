{
 "cells": [
  {
   "cell_type": "code",
   "execution_count": 8,
   "metadata": {},
   "outputs": [
    {
     "name": "stdout",
     "output_type": "stream",
     "text": [
      "cpu\n"
     ]
    }
   ],
   "source": [
    "# code by Tae Hwan Jung(Jeff Jung) @graykode, modify by wmathor\n",
    "import torch\n",
    "import numpy as np\n",
    "import torch.nn as nn\n",
    "import torch.utils.data as Data\n",
    "import torch.nn.functional as F\n",
    "device = torch.device('cuda' if torch.cuda.is_available() else 'cpu')\n",
    "print(device)\n",
    "# S: Symbol that  shows starting of decoding input\n",
    "# E: Symbol that shows starting of decoding output\n",
    "# ?: Symbol that will fill in blank sequence if current batch data size is short than n_step"
   ]
  },
  {
   "cell_type": "code",
   "execution_count": 9,
   "metadata": {},
   "outputs": [],
   "source": [
    "letter = [c for c in 'SE?abcdefghijklmnopqrstuvwxyz']\n",
    "letter2idx = {n: i for i, n in enumerate(letter)}\n",
    "\n",
    "seq_data = [['man', 'women'], ['black', 'white'], ['king', 'queen'], ['girl', 'boy'], ['up', 'down'], ['high', 'low']]\n",
    "\n",
    "# Seq2Seq Parameter\n",
    "n_step = max([max(len(i), len(j)) for i, j in seq_data]) # max_len(=5)\n",
    "n_class = len(letter2idx) # classfication problem\n",
    "batch_size = 1"
   ]
  },
  {
   "cell_type": "code",
   "execution_count": 10,
   "metadata": {},
   "outputs": [
    {
     "name": "stderr",
     "output_type": "stream",
     "text": [
      "C:\\Users\\asus\\AppData\\Local\\Temp\\ipykernel_1216\\151736174.py:17: UserWarning: Creating a tensor from a list of numpy.ndarrays is extremely slow. Please consider converting the list to a single numpy.ndarray with numpy.array() before converting to a tensor. (Triggered internally at  C:\\cb\\pytorch_1000000000000\\work\\torch\\csrc\\utils\\tensor_new.cpp:210.)\n",
      "  return torch.Tensor(enc_input_all), torch.Tensor(dec_input_all), torch.LongTensor(dec_output_all)\n"
     ]
    },
    {
     "data": {
      "text/plain": [
       "tensor([[25, 17, 15,  7, 16,  1],\n",
       "        [25, 10, 11, 22,  7,  1],\n",
       "        [19, 23,  7,  7, 16,  1],\n",
       "        [ 4, 17, 27,  2,  2,  1],\n",
       "        [ 6, 17, 25, 16,  2,  1],\n",
       "        [14, 17, 25,  2,  2,  1]])"
      ]
     },
     "execution_count": 10,
     "metadata": {},
     "output_type": "execute_result"
    }
   ],
   "source": [
    "def make_data(seq_data):\n",
    "    enc_input_all, dec_input_all, dec_output_all = [], [], []\n",
    "\n",
    "    for seq in seq_data:\n",
    "        for i in range(2):\n",
    "            seq[i] = seq[i] + '?' * (n_step - len(seq[i])) # 'man??', 'women'\n",
    "\n",
    "        enc_input = [letter2idx[n] for n in (seq[0] + 'E')] # ['m', 'a', 'n', '?', '?', 'E']\n",
    "        dec_input = [letter2idx[n] for n in ('S' + seq[1])] # ['S', 'w', 'o', 'm', 'e', 'n']\n",
    "        dec_output = [letter2idx[n] for n in (seq[1] + 'E')] # ['w', 'o', 'm', 'e', 'n', 'E']\n",
    "        \n",
    "        enc_input_all.append(np.eye(n_class)[enc_input])#6,6,29\n",
    "        dec_input_all.append(np.eye(n_class)[dec_input])\n",
    "        dec_output_all.append(dec_output) # not one-hot\n",
    "\n",
    "    # make tensor\n",
    "    return torch.Tensor(enc_input_all), torch.Tensor(dec_input_all), torch.LongTensor(dec_output_all)\n",
    "\n",
    "'''\n",
    "enc_input_all: [6, n_step+1 (because of 'E'), n_class]\n",
    "dec_input_all: [6, n_step+1 (because of 'S'), n_class]\n",
    "dec_output_all: [6, n_step+1 (because of 'E')]\n",
    "'''\n",
    "enc_input_all, dec_input_all, dec_output_all = make_data(seq_data)\n",
    "dec_output_all"
   ]
  },
  {
   "cell_type": "code",
   "execution_count": 11,
   "metadata": {},
   "outputs": [],
   "source": [
    "#训练时dec_input_all是正确结果，该训练方式称为teacher forcing（teacher forcing只能用于监督学习中吗）\n",
    "class TranslateDataSet(Data.Dataset):\n",
    "    def __init__(self, enc_input_all, dec_input_all, dec_output_all):\n",
    "        self.enc_input_all = enc_input_all\n",
    "        self.dec_input_all = dec_input_all\n",
    "        self.dec_output_all = dec_output_all\n",
    "    \n",
    "    def __len__(self): # return dataset size\n",
    "        return len(self.enc_input_all)\n",
    "    \n",
    "    def __getitem__(self, idx):\n",
    "        return self.enc_input_all[idx], self.dec_input_all[idx], self.dec_output_all[idx]\n",
    "\n",
    "loader = Data.DataLoader(TranslateDataSet(enc_input_all, dec_input_all, dec_output_all), batch_size, True)"
   ]
  },
  {
   "cell_type": "code",
   "execution_count": 17,
   "metadata": {},
   "outputs": [],
   "source": [
    "class Att(nn.Module):\n",
    "    def __init__(self,encoder_input_size,decoder_input_size, num_hiddens, **kwargs):\n",
    "        super(Att, self).__init__(**kwargs)\n",
    "        self.encoder_input_size = encoder_input_size\n",
    "        self.W_k = nn.Linear(encoder_input_size, num_hiddens)\n",
    "        self.W_v = nn.Linear(encoder_input_size, num_hiddens)\n",
    "        self.W_q = nn.Linear(decoder_input_size, num_hiddens)\n",
    "        self.classify = nn.Linear(num_hiddens,decoder_input_size)\n",
    "    def forward(self,encoder_input,decoder_input):\n",
    "        k = self.W_k(encoder_input)\n",
    "        v = self.W_v(encoder_input)\n",
    "        q = self.W_q(decoder_input[:,0,:].squeeze(1))\n",
    "        output = []\n",
    "        for i in range(decoder_input.shape[1]):\n",
    "            attn_weights = F.softmax(torch.bmm(q,k.transpose(1,2)),dim=2)\n",
    "            #attn_weights =F.softmax(self.attn(torch.cat([k,q], dim=2)))\n",
    "            context = torch.bmm(attn_weights, v)\n",
    "            q = F.softmax(self.classify(context),dim=2)\n",
    "            if output != None:\n",
    "                output = torch.cat((output,q),dim=1)\n",
    "            else: output = q\n",
    "        return output\n",
    "num_hiddens, num_heads = 50, 1\n",
    "key_size, query_size, value_size = 29,29,29\n",
    "model = Att(29,29,100).to(device)\n",
    "#print(model.eval())\n",
    "criterion = nn.CrossEntropyLoss().to(device)\n",
    "optimizer = torch.optim.Adam(model.parameters(), lr=0.0005)\n",
    "#print(model)"
   ]
  },
  {
   "cell_type": "code",
   "execution_count": 18,
   "metadata": {},
   "outputs": [
    {
     "ename": "RuntimeError",
     "evalue": "batch1 must be a 3D tensor",
     "output_type": "error",
     "traceback": [
      "\u001b[1;31m---------------------------------------------------------------------------\u001b[0m",
      "\u001b[1;31mRuntimeError\u001b[0m                              Traceback (most recent call last)",
      "Cell \u001b[1;32mIn[18], line 9\u001b[0m\n\u001b[0;32m      5\u001b[0m (enc_input_batch, dec_intput_batch, dec_output_batch) \u001b[39m=\u001b[39m (enc_input_batch\u001b[39m.\u001b[39mto(device), dec_input_batch\u001b[39m.\u001b[39mto(device), dec_output_batch\u001b[39m.\u001b[39mto(device))\n\u001b[0;32m      6\u001b[0m \u001b[39m# enc_input_batch : [batch_size, n_step+1, n_class]\u001b[39;00m\n\u001b[0;32m      7\u001b[0m \u001b[39m# dec_intput_batch : [batch_size, n_step+1, n_class]\u001b[39;00m\n\u001b[0;32m      8\u001b[0m \u001b[39m# dec_output_batch : [batch_size, n_step+1], not one-hot\u001b[39;00m\n\u001b[1;32m----> 9\u001b[0m pred \u001b[39m=\u001b[39m model(enc_input_batch,dec_intput_batch)\n\u001b[0;32m     10\u001b[0m \u001b[39mfor\u001b[39;00m i \u001b[39min\u001b[39;00m \u001b[39mrange\u001b[39m(\u001b[39mlen\u001b[39m(dec_output_batch)):\n\u001b[0;32m     11\u001b[0m     \u001b[39m# pred[i] : [n_step+1, n_class]\u001b[39;00m\n\u001b[0;32m     12\u001b[0m     \u001b[39m# dec_output_batch[i] : [n_step+1]\u001b[39;00m\n\u001b[0;32m     13\u001b[0m     loss \u001b[39m+\u001b[39m\u001b[39m=\u001b[39m criterion(pred[i], dec_output_batch[i])\n",
      "File \u001b[1;32mc:\\Users\\asus\\.conda\\envs\\virne\\lib\\site-packages\\torch\\nn\\modules\\module.py:1110\u001b[0m, in \u001b[0;36mModule._call_impl\u001b[1;34m(self, *input, **kwargs)\u001b[0m\n\u001b[0;32m   1106\u001b[0m \u001b[39m# If we don't have any hooks, we want to skip the rest of the logic in\u001b[39;00m\n\u001b[0;32m   1107\u001b[0m \u001b[39m# this function, and just call forward.\u001b[39;00m\n\u001b[0;32m   1108\u001b[0m \u001b[39mif\u001b[39;00m \u001b[39mnot\u001b[39;00m (\u001b[39mself\u001b[39m\u001b[39m.\u001b[39m_backward_hooks \u001b[39mor\u001b[39;00m \u001b[39mself\u001b[39m\u001b[39m.\u001b[39m_forward_hooks \u001b[39mor\u001b[39;00m \u001b[39mself\u001b[39m\u001b[39m.\u001b[39m_forward_pre_hooks \u001b[39mor\u001b[39;00m _global_backward_hooks\n\u001b[0;32m   1109\u001b[0m         \u001b[39mor\u001b[39;00m _global_forward_hooks \u001b[39mor\u001b[39;00m _global_forward_pre_hooks):\n\u001b[1;32m-> 1110\u001b[0m     \u001b[39mreturn\u001b[39;00m forward_call(\u001b[39m*\u001b[39;49m\u001b[39minput\u001b[39;49m, \u001b[39m*\u001b[39;49m\u001b[39m*\u001b[39;49mkwargs)\n\u001b[0;32m   1111\u001b[0m \u001b[39m# Do not call functions when jit is used\u001b[39;00m\n\u001b[0;32m   1112\u001b[0m full_backward_hooks, non_full_backward_hooks \u001b[39m=\u001b[39m [], []\n",
      "Cell \u001b[1;32mIn[17], line 15\u001b[0m, in \u001b[0;36mAtt.forward\u001b[1;34m(self, encoder_input, decoder_input)\u001b[0m\n\u001b[0;32m     13\u001b[0m output \u001b[39m=\u001b[39m []\n\u001b[0;32m     14\u001b[0m \u001b[39mfor\u001b[39;00m i \u001b[39min\u001b[39;00m \u001b[39mrange\u001b[39m(decoder_input\u001b[39m.\u001b[39mshape[\u001b[39m1\u001b[39m]):\n\u001b[1;32m---> 15\u001b[0m     attn_weights \u001b[39m=\u001b[39m F\u001b[39m.\u001b[39msoftmax(torch\u001b[39m.\u001b[39;49mbmm(q,k\u001b[39m.\u001b[39;49mtranspose(\u001b[39m1\u001b[39;49m,\u001b[39m2\u001b[39;49m)),dim\u001b[39m=\u001b[39m\u001b[39m2\u001b[39m)\n\u001b[0;32m     16\u001b[0m     \u001b[39m#attn_weights =F.softmax(self.attn(torch.cat([k,q], dim=2)))\u001b[39;00m\n\u001b[0;32m     17\u001b[0m     context \u001b[39m=\u001b[39m torch\u001b[39m.\u001b[39mbmm(attn_weights, v)\n",
      "\u001b[1;31mRuntimeError\u001b[0m: batch1 must be a 3D tensor"
     ]
    }
   ],
   "source": [
    "for epoch in range(10000):\n",
    "    loss = 0\n",
    "    optimizer.zero_grad()\n",
    "    for enc_input_batch, dec_input_batch, dec_output_batch in loader:\n",
    "      (enc_input_batch, dec_intput_batch, dec_output_batch) = (enc_input_batch.to(device), dec_input_batch.to(device), dec_output_batch.to(device))\n",
    "      # enc_input_batch : [batch_size, n_step+1, n_class]\n",
    "      # dec_intput_batch : [batch_size, n_step+1, n_class]\n",
    "      # dec_output_batch : [batch_size, n_step+1], not one-hot\n",
    "      pred = model(enc_input_batch,dec_intput_batch)\n",
    "      for i in range(len(dec_output_batch)):\n",
    "          # pred[i] : [n_step+1, n_class]\n",
    "          # dec_output_batch[i] : [n_step+1]\n",
    "          loss += criterion(pred[i], dec_output_batch[i])\n",
    "    if (epoch + 1) % 1000 == 0:\n",
    "        print('Epoch:', '%04d' % (epoch + 1), 'cost =', '{:.6f}'.format(loss))\n",
    "        \n",
    "    \n",
    "    loss.backward()\n",
    "    optimizer.step()"
   ]
  },
  {
   "cell_type": "code",
   "execution_count": 9,
   "metadata": {},
   "outputs": [],
   "source": [
    "torch.save(model, \"mha\")\n",
    "model = torch.load(\"mha\")"
   ]
  },
  {
   "cell_type": "code",
   "execution_count": 45,
   "metadata": {},
   "outputs": [
    {
     "data": {
      "text/plain": [
       "Att(\n",
       "  (W_k): Linear(in_features=29, out_features=100, bias=True)\n",
       "  (W_v): Linear(in_features=29, out_features=100, bias=True)\n",
       "  (W_q): Linear(in_features=29, out_features=100, bias=True)\n",
       "  (classify): Linear(in_features=100, out_features=29, bias=True)\n",
       ")"
      ]
     },
     "execution_count": 45,
     "metadata": {},
     "output_type": "execute_result"
    }
   ],
   "source": [
    "\n",
    "model.eval()"
   ]
  },
  {
   "cell_type": "code",
   "execution_count": 58,
   "metadata": {},
   "outputs": [
    {
     "name": "stdout",
     "output_type": "stream",
     "text": [
      "test\n",
      "man -> wooooo\n",
      "mans -> wooooo\n",
      "king -> q?????\n",
      "black -> wttttt\n",
      "up -> dEEEEE\n"
     ]
    }
   ],
   "source": [
    "# Test\n",
    "def translate(word):\n",
    "    enc_input, dec_input, _ = make_data([[word, '?' * n_step]])\n",
    "    enc_input, dec_input = enc_input.to(device), dec_input.to(device)\n",
    "    # make hidden shape [num_layers * num_directions, batch_size, n_hidden]\n",
    "    #hidden = torch.zeros(1, 1, n_hidden).to(device)\n",
    "    output = model(enc_input,dec_input)\n",
    "    # output : [n_step+1, batch_size, n_class]\n",
    " \n",
    "    predict = output.data.max(2, keepdim=True)[1] # select n_class dimension\n",
    "    decoded = [letter[i] for i in predict[0]]\n",
    "\n",
    "    #translated = ''.join(decoded[:decoded.index('E')])\n",
    "    translated = ''.join(decoded)\n",
    "    return translated\n",
    "\n",
    "print('test')\n",
    "print('man ->', translate('man'))\n",
    "print('mans ->', translate('mans'))\n",
    "print('king ->', translate('king'))\n",
    "print('black ->', translate('black'))\n",
    "print('up ->', translate('up'))\n",
    "#print('left->',translate('left'))"
   ]
  },
  {
   "cell_type": "code",
   "execution_count": 63,
   "metadata": {},
   "outputs": [],
   "source": [
    "class Att(nn.Module):\n",
    "    def __init__(self,encoder_input_size,decoder_input_size, num_hiddens, **kwargs):\n",
    "        super(Att, self).__init__(**kwargs)\n",
    "        self.encoder_input_size = encoder_input_size\n",
    "        self.W_k = nn.Linear(encoder_input_size, num_hiddens)\n",
    "        self.W_v = nn.Linear(encoder_input_size, num_hiddens)\n",
    "        self.W_q = nn.Linear(decoder_input_size, num_hiddens)\n",
    "        self.classify = nn.Linear(num_hiddens,decoder_input_size)\n",
    "    def forward(self,encoder_input,decoder_input):\n",
    "        k = self.W_k(encoder_input)\n",
    "        v = self.W_v(encoder_input)\n",
    "        q = self.W_q(decoder_input[:,0,:])\n",
    "        output = []\n",
    "        for i in range(q.shape[1]):\n",
    "            attn_weights = F.softmax(torch.bmm(q,k.transpose(1,2)),dim=2)\n",
    "            #attn_weights =F.softmax(self.attn(torch.cat([k,q], dim=2)))\n",
    "            context = torch.bmm(attn_weights, v)\n",
    "            q = F.softmax(self.classify(context),dim=2)\n",
    "            if output != None:\n",
    "                output = torch.cat((output,q),dim=1)\n",
    "            else: output = q\n",
    "        return output"
   ]
  },
  {
   "cell_type": "code",
   "execution_count": 16,
   "metadata": {},
   "outputs": [
    {
     "name": "stdout",
     "output_type": "stream",
     "text": [
      "tensor([[[1, 1, 0, 2, 1, 1],\n",
      "         [0, 1, 2, 1, 0, 2],\n",
      "         [1, 1, 2, 2, 2, 1],\n",
      "         [0, 1, 0, 0, 1, 2],\n",
      "         [1, 0, 1, 0, 2, 0],\n",
      "         [2, 1, 1, 2, 1, 1],\n",
      "         [0, 0, 2, 1, 1, 2],\n",
      "         [1, 2, 0, 1, 1, 1],\n",
      "         [0, 1, 0, 2, 2, 1]],\n",
      "\n",
      "        [[1, 2, 0, 2, 0, 2],\n",
      "         [2, 0, 0, 1, 1, 0],\n",
      "         [2, 1, 2, 1, 2, 0],\n",
      "         [0, 1, 1, 2, 0, 1],\n",
      "         [1, 0, 0, 2, 2, 0],\n",
      "         [0, 2, 1, 0, 1, 2],\n",
      "         [0, 1, 1, 0, 1, 2],\n",
      "         [2, 2, 0, 1, 0, 2],\n",
      "         [1, 0, 2, 1, 0, 2]]]) tensor([[[2, 1, 0, 0, 2, 1, 2, 2, 2]],\n",
      "\n",
      "        [[2, 0, 2, 0, 0, 2, 2, 1, 0]]])\n",
      "torch.Size([2, 6])\n"
     ]
    },
    {
     "ename": "RuntimeError",
     "evalue": "\"softmax_lastdim_kernel_impl\" not implemented for 'Long'",
     "output_type": "error",
     "traceback": [
      "\u001b[1;31m---------------------------------------------------------------------------\u001b[0m",
      "\u001b[1;31mRuntimeError\u001b[0m                              Traceback (most recent call last)",
      "Cell \u001b[1;32mIn[16], line 10\u001b[0m\n\u001b[0;32m      8\u001b[0m \u001b[39mprint\u001b[39m(mat1[:,\u001b[39m0\u001b[39m,:]\u001b[39m.\u001b[39mshape)\n\u001b[0;32m      9\u001b[0m torch\u001b[39m.\u001b[39mbmm(mat2,mat1)\n\u001b[1;32m---> 10\u001b[0m F\u001b[39m.\u001b[39;49msoftmax(torch\u001b[39m.\u001b[39;49mbmm(mat2,mat1),dim\u001b[39m=\u001b[39;49m\u001b[39m2\u001b[39;49m)\n",
      "File \u001b[1;32mc:\\Users\\asus\\.conda\\envs\\virne\\lib\\site-packages\\torch\\nn\\functional.py:1818\u001b[0m, in \u001b[0;36msoftmax\u001b[1;34m(input, dim, _stacklevel, dtype)\u001b[0m\n\u001b[0;32m   1816\u001b[0m     dim \u001b[39m=\u001b[39m _get_softmax_dim(\u001b[39m\"\u001b[39m\u001b[39msoftmax\u001b[39m\u001b[39m\"\u001b[39m, \u001b[39minput\u001b[39m\u001b[39m.\u001b[39mdim(), _stacklevel)\n\u001b[0;32m   1817\u001b[0m \u001b[39mif\u001b[39;00m dtype \u001b[39mis\u001b[39;00m \u001b[39mNone\u001b[39;00m:\n\u001b[1;32m-> 1818\u001b[0m     ret \u001b[39m=\u001b[39m \u001b[39minput\u001b[39;49m\u001b[39m.\u001b[39;49msoftmax(dim)\n\u001b[0;32m   1819\u001b[0m \u001b[39melse\u001b[39;00m:\n\u001b[0;32m   1820\u001b[0m     ret \u001b[39m=\u001b[39m \u001b[39minput\u001b[39m\u001b[39m.\u001b[39msoftmax(dim, dtype\u001b[39m=\u001b[39mdtype)\n",
      "\u001b[1;31mRuntimeError\u001b[0m: \"softmax_lastdim_kernel_impl\" not implemented for 'Long'"
     ]
    }
   ],
   "source": [
    "mat1 = torch.randint(3,(2,9,6)) \n",
    "mat2 = torch.randint(3,(2,1,9)) \n",
    "print(mat1,mat2)\n",
    "# print(mat2.shape[1])\n",
    "# print(mat2.squeeze(1).shape)\n",
    "# print(mat2.data.max(2))\n",
    "#torch.cat((mat2,mat2),1).shape\n",
    "print(mat1[:,0,:].shape)\n",
    "torch.bmm(mat2,mat1)\n",
    "F.softmax(torch.bmm(mat2,mat1),dim=2)"
   ]
  }
 ],
 "metadata": {
  "kernelspec": {
   "display_name": "mytorch",
   "language": "python",
   "name": "python3"
  },
  "language_info": {
   "codemirror_mode": {
    "name": "ipython",
    "version": 3
   },
   "file_extension": ".py",
   "mimetype": "text/x-python",
   "name": "python",
   "nbconvert_exporter": "python",
   "pygments_lexer": "ipython3",
   "version": "3.8.16"
  },
  "orig_nbformat": 4
 },
 "nbformat": 4,
 "nbformat_minor": 2
}
