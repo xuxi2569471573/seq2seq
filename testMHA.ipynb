{
 "cells": [
  {
   "cell_type": "code",
   "execution_count": 2,
   "metadata": {},
   "outputs": [
    {
     "name": "stdout",
     "output_type": "stream",
     "text": [
      "cpu\n"
     ]
    },
    {
     "name": "stderr",
     "output_type": "stream",
     "text": [
      "c:\\Users\\asus\\.conda\\envs\\virne\\lib\\site-packages\\tqdm\\auto.py:21: TqdmWarning: IProgress not found. Please update jupyter and ipywidgets. See https://ipywidgets.readthedocs.io/en/stable/user_install.html\n",
      "  from .autonotebook import tqdm as notebook_tqdm\n"
     ]
    }
   ],
   "source": [
    "# code by Tae Hwan Jung(Jeff Jung) @graykode, modify by wmathor\n",
    "import torch\n",
    "import numpy as np\n",
    "import torch.nn as nn\n",
    "import torch.utils.data as Data\n",
    "import torch.nn.functional as F\n",
    "device = torch.device('cuda' if torch.cuda.is_available() else 'cpu')\n",
    "print(device)\n",
    "# S: Symbol that  shows starting of decoding input\n",
    "# E: Symbol that shows starting of decoding output\n",
    "# ?: Symbol that will fill in blank sequence if current batch data size is short than n_step"
   ]
  },
  {
   "cell_type": "code",
   "execution_count": 2,
   "metadata": {},
   "outputs": [],
   "source": [
    "letter = [c for c in 'SE?abcdefghijklmnopqrstuvwxyz']\n",
    "letter2idx = {n: i for i, n in enumerate(letter)}\n",
    "\n",
    "seq_data = [['man', 'women'], ['black', 'white'], ['king', 'queen'], ['girl', 'boy'], ['up', 'down'], ['high', 'low']]\n",
    "\n",
    "# Seq2Seq Parameter\n",
    "n_step = max([max(len(i), len(j)) for i, j in seq_data]) # max_len(=5)\n",
    "n_class = len(letter2idx) # classfication problem\n",
    "batch_size = 1"
   ]
  },
  {
   "cell_type": "code",
   "execution_count": 5,
   "metadata": {},
   "outputs": [
    {
     "data": {
      "text/plain": [
       "tensor([[25, 17, 15,  7, 16,  1],\n",
       "        [25, 10, 11, 22,  7,  1],\n",
       "        [19, 23,  7,  7, 16,  1],\n",
       "        [ 4, 17, 27,  2,  2,  1],\n",
       "        [ 6, 17, 25, 16,  2,  1],\n",
       "        [14, 17, 25,  2,  2,  1]])"
      ]
     },
     "execution_count": 5,
     "metadata": {},
     "output_type": "execute_result"
    }
   ],
   "source": [
    "def make_data(seq_data):\n",
    "    enc_input_all, dec_input_all, dec_output_all = [], [], []\n",
    "\n",
    "    for seq in seq_data:\n",
    "        for i in range(2):\n",
    "            seq[i] = seq[i] + '?' * (n_step - len(seq[i])) # 'man??', 'women'\n",
    "\n",
    "        enc_input = [letter2idx[n] for n in (seq[0] + 'E')] # ['m', 'a', 'n', '?', '?', 'E']\n",
    "        dec_input = [letter2idx[n] for n in ('S' + seq[1])] # ['S', 'w', 'o', 'm', 'e', 'n']\n",
    "        dec_output = [letter2idx[n] for n in (seq[1] + 'E')] # ['w', 'o', 'm', 'e', 'n', 'E']\n",
    "        \n",
    "        enc_input_all.append(np.eye(n_class)[enc_input])#6,6,29\n",
    "        dec_input_all.append(np.eye(n_class)[dec_input])\n",
    "        dec_output_all.append(dec_output) # not one-hot\n",
    "\n",
    "    # make tensor\n",
    "    return torch.Tensor(enc_input_all), torch.Tensor(dec_input_all), torch.LongTensor(dec_output_all)\n",
    "\n",
    "'''\n",
    "enc_input_all: [6, n_step+1 (because of 'E'), n_class]\n",
    "dec_input_all: [6, n_step+1 (because of 'S'), n_class]\n",
    "dec_output_all: [6, n_step+1 (because of 'E')]\n",
    "'''\n",
    "enc_input_all, dec_input_all, dec_output_all = make_data(seq_data)\n",
    "dec_output_all"
   ]
  },
  {
   "cell_type": "code",
   "execution_count": 6,
   "metadata": {},
   "outputs": [],
   "source": [
    "#训练时dec_input_all是正确结果，该训练方式称为teacher forcing（teacher forcing只能用于监督学习中吗）\n",
    "class TranslateDataSet(Data.Dataset):\n",
    "    def __init__(self, enc_input_all, dec_input_all, dec_output_all):\n",
    "        self.enc_input_all = enc_input_all\n",
    "        self.dec_input_all = dec_input_all\n",
    "        self.dec_output_all = dec_output_all\n",
    "    \n",
    "    def __len__(self): # return dataset size\n",
    "        return len(self.enc_input_all)\n",
    "    \n",
    "    def __getitem__(self, idx):\n",
    "        return self.enc_input_all[idx], self.dec_input_all[idx], self.dec_output_all[idx]\n",
    "\n",
    "loader = Data.DataLoader(TranslateDataSet(enc_input_all, dec_input_all, dec_output_all), batch_size, True)"
   ]
  },
  {
   "cell_type": "code",
   "execution_count": 7,
   "metadata": {},
   "outputs": [],
   "source": [
    "from myNet import MultiHeadAttention\n",
    "num_hiddens, num_heads = 50, 1\n",
    "key_size, query_size, value_size = 29,29,29\n",
    "model = MultiHeadAttention(key_size,query_size,value_size,num_hiddens,num_heads,0.5,bias=True).to(device)\n",
    "#print(model.eval())\n",
    "criterion = nn.CrossEntropyLoss().to(device)\n",
    "optimizer = torch.optim.Adam(model.parameters(), lr=0.0001)\n",
    "#print(model)"
   ]
  },
  {
   "cell_type": "code",
   "execution_count": 8,
   "metadata": {},
   "outputs": [
    {
     "name": "stdout",
     "output_type": "stream",
     "text": [
      "Epoch: 1000 cost = 16.208218\n",
      "Epoch: 2000 cost = 14.647017\n",
      "Epoch: 3000 cost = 12.937181\n",
      "Epoch: 4000 cost = 12.469214\n",
      "Epoch: 5000 cost = 10.680637\n",
      "Epoch: 6000 cost = 10.202083\n",
      "Epoch: 7000 cost = 10.212413\n",
      "Epoch: 8000 cost = 8.516916\n",
      "Epoch: 9000 cost = 6.614962\n",
      "Epoch: 10000 cost = 6.697484\n"
     ]
    }
   ],
   "source": [
    "for epoch in range(10000):\n",
    "    loss = 0\n",
    "    optimizer.zero_grad()\n",
    "    for enc_input_batch, dec_input_batch, dec_output_batch in loader:\n",
    "      (enc_input_batch, dec_intput_batch, dec_output_batch) = (enc_input_batch.to(device), dec_input_batch.to(device), dec_output_batch.to(device))\n",
    "      # enc_input_batch : [batch_size, n_step+1, n_class]\n",
    "      # dec_intput_batch : [batch_size, n_step+1, n_class]\n",
    "      # dec_output_batch : [batch_size, n_step+1], not one-hot\n",
    "      pred = model(dec_intput_batch,enc_input_batch, enc_input_batch,None)\n",
    "      for i in range(len(dec_output_batch)):\n",
    "          # pred[i] : [n_step+1, n_class]\n",
    "          # dec_output_batch[i] : [n_step+1]\n",
    "          loss += criterion(pred[i], dec_output_batch[i])\n",
    "    if (epoch + 1) % 1000 == 0:\n",
    "        print('Epoch:', '%04d' % (epoch + 1), 'cost =', '{:.6f}'.format(loss))\n",
    "        \n",
    "    \n",
    "    loss.backward()\n",
    "    optimizer.step()"
   ]
  },
  {
   "cell_type": "code",
   "execution_count": 9,
   "metadata": {},
   "outputs": [],
   "source": [
    "torch.save(model, \"mha\")\n",
    "model = torch.load(\"mha\")"
   ]
  },
  {
   "cell_type": "code",
   "execution_count": 10,
   "metadata": {},
   "outputs": [
    {
     "data": {
      "text/plain": [
       "MultiHeadAttention(\n",
       "  (attention): DotProductAttention(\n",
       "    (dropout): Dropout(p=0.5, inplace=False)\n",
       "  )\n",
       "  (W_q): Linear(in_features=29, out_features=50, bias=True)\n",
       "  (W_k): Linear(in_features=29, out_features=50, bias=True)\n",
       "  (W_v): Linear(in_features=29, out_features=50, bias=True)\n",
       "  (W_o): Linear(in_features=50, out_features=29, bias=True)\n",
       ")"
      ]
     },
     "execution_count": 10,
     "metadata": {},
     "output_type": "execute_result"
    }
   ],
   "source": [
    "\n",
    "model.eval()"
   ]
  },
  {
   "cell_type": "code",
   "execution_count": 12,
   "metadata": {},
   "outputs": [
    {
     "name": "stdout",
     "output_type": "stream",
     "text": [
      "test\n"
     ]
    }
   ],
   "source": [
    "# Test\n",
    "def translate(word):\n",
    "    enc_input, dec_input, _ = make_data([[word, '?' * n_step]])\n",
    "    enc_input, dec_input = enc_input.to(device), dec_input.to(device)\n",
    "    # make hidden shape [num_layers * num_directions, batch_size, n_hidden]\n",
    "    #hidden = torch.zeros(1, 1, n_hidden).to(device)\n",
    "    output = model(dec_input,enc_input,enc_input,None)\n",
    "    # output : [n_step+1, batch_size, n_class]\n",
    " \n",
    "    predict = output.data.max(2, keepdim=True)[1] # select n_class dimension\n",
    "    decoded = [letter[i] for i in predict[0]]\n",
    "\n",
    "    #translated = ''.join(decoded[:decoded.index('E')])\n",
    "    translated = ''.join(decoded)\n",
    "    return translated.replace('?', '')\n",
    "\n",
    "print('test')\n",
    "print('man ->', translate('man'))\n",
    "print('mans ->', translate('mans'))\n",
    "print('king ->', translate('king'))\n",
    "print('black ->', translate('black'))\n",
    "print('up ->', translate('up'))\n",
    "#print('left->',translate('left'))"
   ]
  },
  {
   "cell_type": "code",
   "execution_count": 4,
   "metadata": {},
   "outputs": [],
   "source": [
    "class Att(nn.Module):\n",
    "    def __init__(self,encoder_input_size,decoder_input_size, num_hiddens, **kwargs):\n",
    "        super(Att, self).__init__(**kwargs)\n",
    "        self.encoder_input_size = encoder_input_size\n",
    "        self.W_k = nn.Linear(encoder_input_size, num_hiddens)\n",
    "        self.W_v = nn.Linear(encoder_input_size, num_hiddens)\n",
    "        self.W_q = nn.Linear(decoder_input_size, num_hiddens)\n",
    "        self.attn = nn.Linear(num_hiddens * 2, num_hiddens)\n",
    "    def forward(self,encoder_input,decoder_input):\n",
    "        k = self.w_k(encoder_input)\n",
    "        v = self.w_v(encoder_input)\n",
    "        q = self.w_q(decoder_input)\n",
    "        attn_weights =F.softmax(self.attn(torch.cat([k,q], dim=2)))\n",
    "        context = torch.bmm(attn_weights.unsqueeze(1), v)\n",
    "        return F.softmax(context,dim=-1)"
   ]
  }
 ],
 "metadata": {
  "kernelspec": {
   "display_name": "mytorch",
   "language": "python",
   "name": "python3"
  },
  "language_info": {
   "codemirror_mode": {
    "name": "ipython",
    "version": 3
   },
   "file_extension": ".py",
   "mimetype": "text/x-python",
   "name": "python",
   "nbconvert_exporter": "python",
   "pygments_lexer": "ipython3",
   "version": "3.8.16"
  },
  "orig_nbformat": 4
 },
 "nbformat": 4,
 "nbformat_minor": 2
}
