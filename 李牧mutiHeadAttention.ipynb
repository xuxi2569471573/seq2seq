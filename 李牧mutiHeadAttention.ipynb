{
 "cells": [
  {
   "cell_type": "code",
   "execution_count": 18,
   "metadata": {},
   "outputs": [],
   "source": [
    "import math\n",
    "import torch\n",
    "from torch import nn\n",
    "from d2l import torch as d2l"
   ]
  },
  {
   "cell_type": "code",
   "execution_count": 19,
   "metadata": {},
   "outputs": [],
   "source": [
    "def transpose_qkv(X, num_heads):\n",
    "    X = X.reshape(X.shape[0], X.shape[1], num_heads, -1)\n",
    "\n",
    "    X = X.permute(0, 2, 1, 3)\n",
    "\n",
    "    return X.reshape(-1, X.shape[2], X.shape[3])\n",
    "\n",
    "def transpose_output(X, num_heads):\n",
    "    \"\"\"逆转 `transpose_qkv` 函数的操作\"\"\"\n",
    "    X = X.reshape(-1, num_heads, X.shape[1], X.shape[2])\n",
    "    X = X.permute(0, 2, 1, 3)\n",
    "    return X.reshape(X.shape[0], X.shape[1], -1)\n",
    "def masked_softmax(X, valid_len):\n",
    "    \"\"\"Perform softmax by filtering out some elements.\"\"\"\n",
    "    # X: 3-D tensor, valid_len: 1-D or 2-D tensor\n",
    "    if valid_len is None:\n",
    "        return nn.functional.softmax(X, dim=-1)\n",
    "    else:\n",
    "        shape = X.shape\n",
    "        if valid_len.dim() == 1:\n",
    "            valid_len = torch.repeat_interleave(valid_len, repeats=shape[1],\n",
    "                                                dim=0)\n",
    "        else:\n",
    "            valid_len = valid_len.reshape(-1)\n",
    "        # Fill masked elements with a large negative, whose exp is 0\n",
    "        X = d2l.sequence_mask(X.reshape(-1, shape[-1]), valid_len, value=-1e6)\n",
    "        return nn.functional.softmax(X.reshape(shape), dim=-1)"
   ]
  },
  {
   "cell_type": "code",
   "execution_count": 20,
   "metadata": {},
   "outputs": [],
   "source": [
    "class DotProductAttention(nn.Module):\n",
    "    def __init__(self, dropout, **kwargs):\n",
    "        super(DotProductAttention, self).__init__(**kwargs)\n",
    "        self.dropout = nn.Dropout(dropout)\n",
    "\n",
    "    # `query`: (`batch_size`, #queries, `d`)\n",
    "    # `key`: (`batch_size`, #kv_pairs, `d`)\n",
    "    # `value`: (`batch_size`, #kv_pairs, `dim_v`)\n",
    "    # `valid_len`: either (`batch_size`, ) or (`batch_size`, xx)\n",
    "    def forward(self, query, key, value, valid_len=None):\n",
    "        d = query.shape[-1]\n",
    "        # Set transpose_b=True to swap the last two dimensions of key\n",
    "        scores = torch.bmm(query, key.transpose(1,2)) / math.sqrt(d)\n",
    "        attention_weights = self.dropout(masked_softmax(scores, valid_len))\n",
    "        return torch.bmm(attention_weights, value)"
   ]
  },
  {
   "cell_type": "code",
   "execution_count": 21,
   "metadata": {},
   "outputs": [],
   "source": [
    "class MultiHeadAttention(nn.Module):\n",
    "    def __init__(self, key_size, query_size, value_size, num_hiddens,\n",
    "                 num_heads, dropout, bias=False, **kwargs):\n",
    "        super(MultiHeadAttention, self).__init__(**kwargs)\n",
    "        self.num_heads = num_heads\n",
    "        self.attention = d2l.DotProductAttention(dropout)\n",
    "        self.W_q = nn.Linear(query_size, num_hiddens, bias=bias)\n",
    "        self.W_k = nn.Linear(key_size, num_hiddens, bias=bias)\n",
    "        self.W_v = nn.Linear(value_size, num_hiddens, bias=bias)\n",
    "        self.W_o = nn.Linear(num_hiddens, num_hiddens, bias=bias)\n",
    "\n",
    "    def forward(self, query, key, value, valid_len):\n",
    "        # For self-attention, `query`, `key`, and `value` shape:\n",
    "        # (`batch_size`, `seq_len`, `dim`), where `seq_len` is the length of\n",
    "        # input sequence. `valid_len` shape is either (`batch_size`, ) or\n",
    "        # (`batch_size`, `seq_len`).\n",
    "\n",
    "        # Project and transpose `query`, `key`, and `value` from\n",
    "        # (`batch_size`, `seq_len`, `num_hiddens`) to\n",
    "        # (`batch_size` * `num_heads`, `seq_len`, `num_hiddens` / `num_heads`)\n",
    "        query = transpose_qkv(self.W_q(query), self.num_heads)\n",
    "        key = transpose_qkv(self.W_k(key), self.num_heads)\n",
    "        value = transpose_qkv(self.W_v(value), self.num_heads)\n",
    "\n",
    "        if valid_len is not None:\n",
    "            if valid_len.ndim == 1:\n",
    "              valid_len = valid_len.repeat(self.num_heads)\n",
    "            else:\n",
    "              valid_len = valid_len.repeat(self.num_heads, 1)\n",
    "\n",
    "        # For self-attention, `output` shape:\n",
    "        # (`batch_size` * `num_heads`, `seq_len`, `num_hiddens` / `num_heads`)\n",
    "        output = self.attention(query, key, value, valid_len)\n",
    "\n",
    "        # `output_concat` shape: (`batch_size`, `seq_len`, `num_hiddens`)\n",
    "        output_concat = transpose_output(output, self.num_heads)\n",
    "        return self.W_o(output_concat)"
   ]
  },
  {
   "cell_type": "code",
   "execution_count": 22,
   "metadata": {},
   "outputs": [
    {
     "data": {
      "text/plain": [
       "MultiHeadAttention(\n",
       "  (attention): DotProductAttention(\n",
       "    (dropout): Dropout(p=0.5, inplace=False)\n",
       "  )\n",
       "  (W_q): Linear(in_features=100, out_features=100, bias=False)\n",
       "  (W_k): Linear(in_features=100, out_features=100, bias=False)\n",
       "  (W_v): Linear(in_features=100, out_features=100, bias=False)\n",
       "  (W_o): Linear(in_features=100, out_features=100, bias=False)\n",
       ")"
      ]
     },
     "execution_count": 22,
     "metadata": {},
     "output_type": "execute_result"
    }
   ],
   "source": [
    "num_hiddens, num_heads = 100, 5\n",
    "attention = MultiHeadAttention(num_hiddens, num_hiddens, num_hiddens,\n",
    "                               num_hiddens, num_heads, 0.5)\n",
    "attention.eval()"
   ]
  },
  {
   "cell_type": "code",
   "execution_count": 25,
   "metadata": {},
   "outputs": [
    {
     "data": {
      "text/plain": [
       "torch.Size([2, 4, 100])"
      ]
     },
     "execution_count": 25,
     "metadata": {},
     "output_type": "execute_result"
    }
   ],
   "source": [
    "batch_size, num_queries, num_kvpairs, valid_lens = 2, 4, 6, torch.tensor([\n",
    "    3, 2])\n",
    "X = torch.ones((batch_size, num_queries, num_hiddens))\n",
    "Y = torch.ones((batch_size, num_kvpairs, num_hiddens))\n",
    "attention(X, Y, Y, valid_lens).shape"
   ]
  }
 ],
 "metadata": {
  "kernelspec": {
   "display_name": "mytorch",
   "language": "python",
   "name": "python3"
  },
  "language_info": {
   "codemirror_mode": {
    "name": "ipython",
    "version": 3
   },
   "file_extension": ".py",
   "mimetype": "text/x-python",
   "name": "python",
   "nbconvert_exporter": "python",
   "pygments_lexer": "ipython3",
   "version": "3.8.15"
  },
  "orig_nbformat": 4
 },
 "nbformat": 4,
 "nbformat_minor": 2
}
